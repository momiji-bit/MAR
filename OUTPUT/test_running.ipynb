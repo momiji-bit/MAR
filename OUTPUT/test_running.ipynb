{
 "cells": [
  {
   "metadata": {},
   "cell_type": "raw",
   "source": "## CTR-GCN",
   "id": "9d74cc474c387a4d"
  },
  {
   "metadata": {
    "ExecuteTime": {
     "end_time": "2025-02-09T15:44:03.611134Z",
     "start_time": "2025-02-09T15:44:03.600384Z"
    }
   },
   "cell_type": "code",
   "source": [
    "import torch\n",
    "from torch.utils.data import DataLoader, Dataset\n",
    "from torchvision import transforms\n",
    "from PIL import Image\n",
    "import os"
   ],
   "id": "dd9ad8b0c6dcaba9",
   "outputs": [],
   "execution_count": 2
  },
  {
   "metadata": {},
   "cell_type": "code",
   "outputs": [],
   "execution_count": null,
   "source": "",
   "id": "315bf47815c640c3"
  }
 ],
 "metadata": {
  "kernelspec": {
   "display_name": "Python 3",
   "language": "python",
   "name": "python3"
  },
  "language_info": {
   "codemirror_mode": {
    "name": "ipython",
    "version": 2
   },
   "file_extension": ".py",
   "mimetype": "text/x-python",
   "name": "python",
   "nbconvert_exporter": "python",
   "pygments_lexer": "ipython2",
   "version": "2.7.6"
  }
 },
 "nbformat": 4,
 "nbformat_minor": 5
}
