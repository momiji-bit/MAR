{
 "cells": [
  {
   "cell_type": "code",
   "execution_count": null,
   "id": "initial_id",
   "metadata": {
    "collapsed": true
   },
   "outputs": [],
   "source": "[7, 7, 7, 7, 4, 2, 3, 2, 3, 2, 3, 4, 5, 4, 5, 4, 5, 7, 7, 7, 4, 5, 4, 5, 4, 5, 6, 6, 6, 6, 6, 6, 0, 0, 0, 0, 0, 0, 1, 1, 1, 1, 1, 1]"
  },
  {
   "metadata": {},
   "cell_type": "code",
   "outputs": [],
   "execution_count": null,
   "source": [
    "self.right_hand = np.array([RH+0, RH+4, RH+8, RH+12, RH+16, RH+20])\n",
    "self.left_hand = np.array([LH+0, LH+4, LH+8, LH+12, LH+16, LH+20])\n",
    "\n",
    "self.right_arm = np.array([5,5,7,7,9,9])\n",
    "self.left_arm = np.array([6,6,8,8,10,10])\n",
    "\n",
    "self.right_leg = np.array([11,13,15,24,22,20])\n",
    "self.left_leg = np.array([12,14,16,25,23,21])\n",
    "\n",
    "self.face = np.array([FK+57, FK+51, FK+33, FK+28, FK+45, FK+36])\n",
    "self.torso = np.array([18,0,3,4,17,19])"
   ],
   "id": "bed02d3ebdec458e"
  }
 ],
 "metadata": {
  "kernelspec": {
   "display_name": "Python 3",
   "language": "python",
   "name": "python3"
  },
  "language_info": {
   "codemirror_mode": {
    "name": "ipython",
    "version": 2
   },
   "file_extension": ".py",
   "mimetype": "text/x-python",
   "name": "python",
   "nbconvert_exporter": "python",
   "pygments_lexer": "ipython2",
   "version": "2.7.6"
  }
 },
 "nbformat": 4,
 "nbformat_minor": 5
}
